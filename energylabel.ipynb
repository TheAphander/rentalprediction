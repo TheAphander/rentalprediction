{
 "cells": [
  {
   "cell_type": "code",
   "execution_count": 3,
   "metadata": {},
   "outputs": [],
   "source": [
    "import pandas as pd"
   ]
  },
  {
   "cell_type": "code",
   "execution_count": 29,
   "metadata": {},
   "outputs": [
    {
     "name": "stderr",
     "output_type": "stream",
     "text": [
      "/tmp/ipykernel_11479/3875615957.py:3: DtypeWarning: Columns (11,13,14,15,22,23) have mixed types. Specify dtype option on import or set low_memory=False.\n",
      "  data = pd.read_csv(\"v20240601_v2_csv.csv\", sep=';')\n"
     ]
    },
    {
     "data": {
      "text/html": [
       "<div>\n",
       "<style scoped>\n",
       "    .dataframe tbody tr th:only-of-type {\n",
       "        vertical-align: middle;\n",
       "    }\n",
       "\n",
       "    .dataframe tbody tr th {\n",
       "        vertical-align: top;\n",
       "    }\n",
       "\n",
       "    .dataframe thead th {\n",
       "        text-align: right;\n",
       "    }\n",
       "</style>\n",
       "<table border=\"1\" class=\"dataframe\">\n",
       "  <thead>\n",
       "    <tr style=\"text-align: right;\">\n",
       "      <th></th>\n",
       "      <th>Pand_opnamedatum</th>\n",
       "      <th>Pand_opnametype</th>\n",
       "      <th>Pand_status</th>\n",
       "      <th>Pand_berekeningstype</th>\n",
       "      <th>Pand_energieindex</th>\n",
       "      <th>Pand_energieklasse</th>\n",
       "      <th>Pand_energielabel_is_prive</th>\n",
       "      <th>Pand_is_op_basis_van_referentie_gebouw</th>\n",
       "      <th>Pand_gebouwklasse</th>\n",
       "      <th>Meting_geldig_tot</th>\n",
       "      <th>...</th>\n",
       "      <th>Pand_primaire_fossiele_energie</th>\n",
       "      <th>Pand_eis_primaire_fossiele_energie</th>\n",
       "      <th>Pand_primaire_fossiele_energie_EMG_forfaitair</th>\n",
       "      <th>Pand_aandeel_hernieuwbare_energie</th>\n",
       "      <th>Pand_eis_aandeel_hernieuwbare_energie</th>\n",
       "      <th>Pand_aandeel_hernieuwbare_energie_EMG_forfaitair</th>\n",
       "      <th>Pand_temperatuuroverschrijding</th>\n",
       "      <th>Pand_eis_temperatuuroverschrijding</th>\n",
       "      <th>Pand_warmtebehoefte</th>\n",
       "      <th>Pand_energieindex_met_EMG_forfaitair</th>\n",
       "    </tr>\n",
       "  </thead>\n",
       "  <tbody>\n",
       "    <tr>\n",
       "      <th>0</th>\n",
       "      <td>20240531</td>\n",
       "      <td>Detailopname</td>\n",
       "      <td>Vergunningsaanvraag</td>\n",
       "      <td>NTA 8800:2023 (detailopname woningbouw)</td>\n",
       "      <td>NaN</td>\n",
       "      <td>A+++</td>\n",
       "      <td>NaN</td>\n",
       "      <td>0</td>\n",
       "      <td>W</td>\n",
       "      <td>20340531</td>\n",
       "      <td>...</td>\n",
       "      <td>26.96</td>\n",
       "      <td>30.0</td>\n",
       "      <td>NaN</td>\n",
       "      <td>71.3</td>\n",
       "      <td>50.0</td>\n",
       "      <td>NaN</td>\n",
       "      <td>0.0</td>\n",
       "      <td>1.2</td>\n",
       "      <td>48.55</td>\n",
       "      <td>NaN</td>\n",
       "    </tr>\n",
       "  </tbody>\n",
       "</table>\n",
       "<p>1 rows × 38 columns</p>\n",
       "</div>"
      ],
      "text/plain": [
       "   Pand_opnamedatum Pand_opnametype          Pand_status  \\\n",
       "0          20240531    Detailopname  Vergunningsaanvraag   \n",
       "\n",
       "                      Pand_berekeningstype  Pand_energieindex  \\\n",
       "0  NTA 8800:2023 (detailopname woningbouw)                NaN   \n",
       "\n",
       "  Pand_energieklasse  Pand_energielabel_is_prive  \\\n",
       "0               A+++                         NaN   \n",
       "\n",
       "   Pand_is_op_basis_van_referentie_gebouw Pand_gebouwklasse  \\\n",
       "0                                       0                 W   \n",
       "\n",
       "   Meting_geldig_tot  ...  Pand_primaire_fossiele_energie  \\\n",
       "0           20340531  ...                           26.96   \n",
       "\n",
       "  Pand_eis_primaire_fossiele_energie  \\\n",
       "0                               30.0   \n",
       "\n",
       "   Pand_primaire_fossiele_energie_EMG_forfaitair  \\\n",
       "0                                            NaN   \n",
       "\n",
       "  Pand_aandeel_hernieuwbare_energie Pand_eis_aandeel_hernieuwbare_energie  \\\n",
       "0                              71.3                                  50.0   \n",
       "\n",
       "  Pand_aandeel_hernieuwbare_energie_EMG_forfaitair  \\\n",
       "0                                              NaN   \n",
       "\n",
       "   Pand_temperatuuroverschrijding  Pand_eis_temperatuuroverschrijding  \\\n",
       "0                             0.0                                 1.2   \n",
       "\n",
       "   Pand_warmtebehoefte  Pand_energieindex_met_EMG_forfaitair  \n",
       "0                48.55                                   NaN  \n",
       "\n",
       "[1 rows x 38 columns]"
      ]
     },
     "execution_count": 29,
     "metadata": {},
     "output_type": "execute_result"
    }
   ],
   "source": [
    "import pandas as pd\n",
    "\n",
    "data = pd.read_csv(\"v20240601_v2_csv.csv\", sep=';')\n",
    "\n",
    "# Display the first few rows to ensure it loaded correctly\n",
    "data.head(1)\n",
    "\n"
   ]
  },
  {
   "cell_type": "code",
   "execution_count": 51,
   "metadata": {},
   "outputs": [
    {
     "data": {
      "text/plain": [
       "Index(['Pand_opnamedatum', 'Pand_opnametype', 'Pand_status',\n",
       "       'Pand_berekeningstype', 'Pand_energieindex', 'Pand_energieklasse',\n",
       "       'Pand_energielabel_is_prive', 'Pand_is_op_basis_van_referentie_gebouw',\n",
       "       'Pand_gebouwklasse', 'Meting_geldig_tot', 'Pand_registratiedatum',\n",
       "       'Pand_postcode', 'Pand_huisnummer', 'Pand_huisletter',\n",
       "       'Pand_huisnummertoevoeging', 'Pand_detailaanduiding',\n",
       "       'Pand_bagverblijfsobjectid', 'Pand_bagligplaatsid',\n",
       "       'Pand_bagstandplaatsid', 'Pand_bagpandid', 'Pand_gebouwtype',\n",
       "       'Pand_gebouwsubtype', 'Pand_projectnaam', 'Pand_projectobject',\n",
       "       'Pand_SBIcode', 'Pand_gebruiksoppervlakte_thermische_zone',\n",
       "       'Pand_energiebehoefte', 'Pand_eis_energiebehoefte',\n",
       "       'Pand_primaire_fossiele_energie', 'Pand_eis_primaire_fossiele_energie',\n",
       "       'Pand_primaire_fossiele_energie_EMG_forfaitair',\n",
       "       'Pand_aandeel_hernieuwbare_energie',\n",
       "       'Pand_eis_aandeel_hernieuwbare_energie',\n",
       "       'Pand_aandeel_hernieuwbare_energie_EMG_forfaitair',\n",
       "       'Pand_temperatuuroverschrijding', 'Pand_eis_temperatuuroverschrijding',\n",
       "       'Pand_warmtebehoefte', 'Pand_energieindex_met_EMG_forfaitair'],\n",
       "      dtype='object')"
      ]
     },
     "execution_count": 51,
     "metadata": {},
     "output_type": "execute_result"
    }
   ],
   "source": [
    "data.columns"
   ]
  }
 ],
 "metadata": {
  "kernelspec": {
   "display_name": "Python 3 (ipykernel)",
   "language": "python",
   "name": "python3"
  }
 },
 "nbformat": 4,
 "nbformat_minor": 2
}
